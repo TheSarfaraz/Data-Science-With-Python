{
  "nbformat": 4,
  "nbformat_minor": 0,
  "metadata": {
    "colab": {
      "name": "PythonBasicsDataCamp.ipynb",
      "version": "0.3.2",
      "provenance": [],
      "include_colab_link": true
    },
    "kernelspec": {
      "name": "python3",
      "display_name": "Python 3"
    }
  },
  "cells": [
    {
      "cell_type": "markdown",
      "metadata": {
        "id": "view-in-github",
        "colab_type": "text"
      },
      "source": [
        "<a href=\"https://colab.research.google.com/github/TheSarfaraz/Data-Science-With-Python/blob/master/PythonBasics.ipynb\" target=\"_parent\"><img src=\"https://colab.research.google.com/assets/colab-badge.svg\" alt=\"Open In Colab\"/></a>"
      ]
    },
    {
      "cell_type": "markdown",
      "metadata": {
        "id": "9pi46s_JCGZJ",
        "colab_type": "text"
      },
      "source": [
        "# Python Basics"
      ]
    },
    {
      "cell_type": "markdown",
      "metadata": {
        "id": "QBHRIJAxD1Bb",
        "colab_type": "text"
      },
      "source": [
        "## Python As A Calculator"
      ]
    },
    {
      "cell_type": "markdown",
      "metadata": {
        "id": "eixsOeLnEiZI",
        "colab_type": "text"
      },
      "source": [
        "Addition"
      ]
    },
    {
      "cell_type": "code",
      "metadata": {
        "id": "t_iHN68gD2yu",
        "colab_type": "code",
        "outputId": "d2e8bfd5-ad12-4260-99c0-fc9a29a8fa53",
        "colab": {
          "base_uri": "https://localhost:8080/",
          "height": 34
        }
      },
      "source": [
        "5 + 5"
      ],
      "execution_count": 0,
      "outputs": [
        {
          "output_type": "execute_result",
          "data": {
            "text/plain": [
              "10"
            ]
          },
          "metadata": {
            "tags": []
          },
          "execution_count": 14
        }
      ]
    },
    {
      "cell_type": "markdown",
      "metadata": {
        "id": "ZT29NGPeElOc",
        "colab_type": "text"
      },
      "source": [
        "Substraction"
      ]
    },
    {
      "cell_type": "code",
      "metadata": {
        "id": "_My651FJD6Od",
        "colab_type": "code",
        "outputId": "3b110782-3854-4ced-9274-6811127fe37f",
        "colab": {
          "base_uri": "https://localhost:8080/",
          "height": 34
        }
      },
      "source": [
        "5 - 5"
      ],
      "execution_count": 0,
      "outputs": [
        {
          "output_type": "execute_result",
          "data": {
            "text/plain": [
              "0"
            ]
          },
          "metadata": {
            "tags": []
          },
          "execution_count": 15
        }
      ]
    },
    {
      "cell_type": "markdown",
      "metadata": {
        "id": "zCHYyy0jEm4X",
        "colab_type": "text"
      },
      "source": [
        "Multiplication"
      ]
    },
    {
      "cell_type": "code",
      "metadata": {
        "id": "sXVjk8bQECsG",
        "colab_type": "code",
        "outputId": "8615c54c-8231-45d5-8acf-60ed8d3c737d",
        "colab": {
          "base_uri": "https://localhost:8080/",
          "height": 34
        }
      },
      "source": [
        "5 * 5"
      ],
      "execution_count": 0,
      "outputs": [
        {
          "output_type": "execute_result",
          "data": {
            "text/plain": [
              "25"
            ]
          },
          "metadata": {
            "tags": []
          },
          "execution_count": 16
        }
      ]
    },
    {
      "cell_type": "markdown",
      "metadata": {
        "id": "3zyxyjFaEpEw",
        "colab_type": "text"
      },
      "source": [
        "Division"
      ]
    },
    {
      "cell_type": "code",
      "metadata": {
        "id": "lGTr38KEEIua",
        "colab_type": "code",
        "outputId": "ac0583ba-692a-4720-e925-d2e4afa80939",
        "colab": {
          "base_uri": "https://localhost:8080/",
          "height": 34
        }
      },
      "source": [
        "25 / 5"
      ],
      "execution_count": 0,
      "outputs": [
        {
          "output_type": "execute_result",
          "data": {
            "text/plain": [
              "5.0"
            ]
          },
          "metadata": {
            "tags": []
          },
          "execution_count": 17
        }
      ]
    },
    {
      "cell_type": "markdown",
      "metadata": {
        "id": "dmx8OrNcErzI",
        "colab_type": "text"
      },
      "source": [
        "Integer Division"
      ]
    },
    {
      "cell_type": "code",
      "metadata": {
        "id": "O9vcS1jnEKdL",
        "colab_type": "code",
        "outputId": "282cecb7-b766-44f1-9365-a0edf1442bf3",
        "colab": {
          "base_uri": "https://localhost:8080/",
          "height": 34
        }
      },
      "source": [
        "25 // 5"
      ],
      "execution_count": 0,
      "outputs": [
        {
          "output_type": "execute_result",
          "data": {
            "text/plain": [
              "5"
            ]
          },
          "metadata": {
            "tags": []
          },
          "execution_count": 18
        }
      ]
    },
    {
      "cell_type": "code",
      "metadata": {
        "id": "vezo1kaMEPBq",
        "colab_type": "code",
        "outputId": "fefb7a54-6422-44a2-8056-b18945316be2",
        "colab": {
          "base_uri": "https://localhost:8080/",
          "height": 34
        }
      },
      "source": [
        "26 / 3"
      ],
      "execution_count": 0,
      "outputs": [
        {
          "output_type": "execute_result",
          "data": {
            "text/plain": [
              "8.666666666666666"
            ]
          },
          "metadata": {
            "tags": []
          },
          "execution_count": 19
        }
      ]
    },
    {
      "cell_type": "code",
      "metadata": {
        "id": "B9aJsdwHER1U",
        "colab_type": "code",
        "outputId": "c084b982-a659-45d0-92f2-96ff4b888eb4",
        "colab": {
          "base_uri": "https://localhost:8080/",
          "height": 34
        }
      },
      "source": [
        "26 // 3"
      ],
      "execution_count": 0,
      "outputs": [
        {
          "output_type": "execute_result",
          "data": {
            "text/plain": [
              "8"
            ]
          },
          "metadata": {
            "tags": []
          },
          "execution_count": 20
        }
      ]
    },
    {
      "cell_type": "markdown",
      "metadata": {
        "id": "YjKXWOCVEvpR",
        "colab_type": "text"
      },
      "source": [
        "Modulo"
      ]
    },
    {
      "cell_type": "code",
      "metadata": {
        "id": "wsNO2XFOES96",
        "colab_type": "code",
        "outputId": "25374e31-a316-477b-cb9f-5329cfd5b6f2",
        "colab": {
          "base_uri": "https://localhost:8080/",
          "height": 34
        }
      },
      "source": [
        "26 % 3"
      ],
      "execution_count": 0,
      "outputs": [
        {
          "output_type": "execute_result",
          "data": {
            "text/plain": [
              "2"
            ]
          },
          "metadata": {
            "tags": []
          },
          "execution_count": 21
        }
      ]
    },
    {
      "cell_type": "code",
      "metadata": {
        "id": "JfpafyCIEX5r",
        "colab_type": "code",
        "outputId": "70872bd0-a269-4a5b-89b8-e7961fb707de",
        "colab": {
          "base_uri": "https://localhost:8080/",
          "height": 34
        }
      },
      "source": [
        "20 % 2"
      ],
      "execution_count": 0,
      "outputs": [
        {
          "output_type": "execute_result",
          "data": {
            "text/plain": [
              "0"
            ]
          },
          "metadata": {
            "tags": []
          },
          "execution_count": 22
        }
      ]
    },
    {
      "cell_type": "code",
      "metadata": {
        "id": "hF25vZDnEadw",
        "colab_type": "code",
        "outputId": "db553326-71e9-4cba-ffa1-999a4b8b4ed0",
        "colab": {
          "base_uri": "https://localhost:8080/",
          "height": 34
        }
      },
      "source": [
        "21 % 2"
      ],
      "execution_count": 0,
      "outputs": [
        {
          "output_type": "execute_result",
          "data": {
            "text/plain": [
              "1"
            ]
          },
          "metadata": {
            "tags": []
          },
          "execution_count": 23
        }
      ]
    },
    {
      "cell_type": "markdown",
      "metadata": {
        "id": "aEOz6guAExqE",
        "colab_type": "text"
      },
      "source": [
        "Exponentiation"
      ]
    },
    {
      "cell_type": "code",
      "metadata": {
        "id": "A26PAx-jEcIo",
        "colab_type": "code",
        "outputId": "673cbb88-fcaa-431f-833c-5adca4a6a624",
        "colab": {
          "base_uri": "https://localhost:8080/",
          "height": 34
        }
      },
      "source": [
        "4 ** 2"
      ],
      "execution_count": 0,
      "outputs": [
        {
          "output_type": "execute_result",
          "data": {
            "text/plain": [
              "16"
            ]
          },
          "metadata": {
            "tags": []
          },
          "execution_count": 24
        }
      ]
    },
    {
      "cell_type": "code",
      "metadata": {
        "id": "HN0rW6UCEfXS",
        "colab_type": "code",
        "outputId": "8e15a2b8-5896-4848-d7e7-176e75aa5f59",
        "colab": {
          "base_uri": "https://localhost:8080/",
          "height": 34
        }
      },
      "source": [
        "3 ** 3"
      ],
      "execution_count": 0,
      "outputs": [
        {
          "output_type": "execute_result",
          "data": {
            "text/plain": [
              "27"
            ]
          },
          "metadata": {
            "tags": []
          },
          "execution_count": 25
        }
      ]
    },
    {
      "cell_type": "markdown",
      "metadata": {
        "id": "6iiEtga2FydV",
        "colab_type": "text"
      },
      "source": [
        "How much is your $100 worth after 7 years?"
      ]
    },
    {
      "cell_type": "code",
      "metadata": {
        "id": "qIoIcQ2WF1x1",
        "colab_type": "code",
        "outputId": "446880b5-ee01-45c9-e34d-463f51ccda23",
        "colab": {
          "base_uri": "https://localhost:8080/",
          "height": 34
        }
      },
      "source": [
        "100 * 1.1 ** 7"
      ],
      "execution_count": 0,
      "outputs": [
        {
          "output_type": "execute_result",
          "data": {
            "text/plain": [
              "194.87171000000012"
            ]
          },
          "metadata": {
            "tags": []
          },
          "execution_count": 26
        }
      ]
    },
    {
      "cell_type": "markdown",
      "metadata": {
        "id": "LG8obxhDE9vz",
        "colab_type": "text"
      },
      "source": [
        "## Variables & Types"
      ]
    },
    {
      "cell_type": "markdown",
      "metadata": {
        "id": "2HL7ep5KHlKD",
        "colab_type": "text"
      },
      "source": [
        "### Variable\n",
        "* Specific, case-sensitive name\n",
        "* Call up value through variable name\n",
        "* Suppose you want to save your height and weight, you're 1.79m tall and weigh 68.7 kg you can assign these two values to variables with an equal sign. \n",
        "```python\n",
        "height = 1.79\n",
        "weight = 68.7\n",
        "```\n",
        "\n",
        "Every time you type the variable's name, you're asking Python to reference the actual value of the variable"
      ]
    },
    {
      "cell_type": "markdown",
      "metadata": {
        "id": "5FR6Bpv_IwJG",
        "colab_type": "text"
      },
      "source": [
        "### Types\n",
        "* Interger\n",
        "* Float\n",
        "* String\n",
        "* Boolean"
      ]
    },
    {
      "cell_type": "code",
      "metadata": {
        "id": "waPdFSS7FxZt",
        "colab_type": "code",
        "colab": {}
      },
      "source": [
        "# These are comments which start with #, \n",
        "# comments are ignored by Python interpreter and are for humans\n",
        "\n",
        "# Create a variable savings \n",
        "savings = 100"
      ],
      "execution_count": 0,
      "outputs": []
    },
    {
      "cell_type": "code",
      "metadata": {
        "id": "6tf6l4mkGDLY",
        "colab_type": "code",
        "outputId": "08e2f8d4-a4ae-42d8-8af0-305a376f8b09",
        "colab": {
          "base_uri": "https://localhost:8080/",
          "height": 34
        }
      },
      "source": [
        "print(savings)"
      ],
      "execution_count": 0,
      "outputs": [
        {
          "output_type": "stream",
          "text": [
            "100\n"
          ],
          "name": "stdout"
        }
      ]
    },
    {
      "cell_type": "code",
      "metadata": {
        "id": "asX2g3sqGFLP",
        "colab_type": "code",
        "outputId": "97b14f40-b279-4d6c-dce0-69ecfdb65584",
        "colab": {
          "base_uri": "https://localhost:8080/",
          "height": 34
        }
      },
      "source": [
        "# Create a variable growth_multiplier\n",
        "\n",
        "growth_multiplier = 1.1\n",
        "\n",
        "# Calculate result\n",
        "\n",
        "result = savings * growth_multiplier ** 7\n",
        "\n",
        "print(result)"
      ],
      "execution_count": 0,
      "outputs": [
        {
          "output_type": "stream",
          "text": [
            "194.87171000000012\n"
          ],
          "name": "stdout"
        }
      ]
    },
    {
      "cell_type": "markdown",
      "metadata": {
        "id": "3lG0m7P7GUoL",
        "colab_type": "text"
      },
      "source": [
        "### Other variable types\n",
        "In the previous exercise, you worked with two Python data types: \n",
        "\n",
        "`int`, or integer: a number without a fractional part. `savings`, with the value `100`, is an example of an integer.\n",
        "`float`, or floating point: a number that has both an integer and fractional part, separated by a point. `growth_multiplier`, with the value `1.1`, is an example of a float.\n",
        "Next to numerical data types, there are two other very common data types:\n",
        "\n",
        "`str`, or string: a type to represent text. You can use single or double quotes to build a string.\n",
        "`bool`, or boolean: a type to represent logical values. Can only be `True` or `False` (the capitalization is important!)."
      ]
    },
    {
      "cell_type": "markdown",
      "metadata": {
        "id": "dbqOgGkzObbZ",
        "colab_type": "text"
      },
      "source": [
        "Create a new string, `desc`, with the value `\"compound interest\"`. \\\n",
        "Create a new boolean, `profitable`, with the value `True`."
      ]
    },
    {
      "cell_type": "code",
      "metadata": {
        "id": "qyUqSQDvPzwC",
        "colab_type": "code",
        "colab": {}
      },
      "source": [
        "# Create a variable desc\n",
        "desc = \"compound interest\"\n",
        "\n",
        "# Create a variable profitable\n",
        "profitable = True"
      ],
      "execution_count": 0,
      "outputs": []
    },
    {
      "cell_type": "markdown",
      "metadata": {
        "id": "jKg36IgPP4Er",
        "colab_type": "text"
      },
      "source": [
        "### Guess the type\n",
        "To find out the type of a value or a variable that refers to that value, you can use the `type()`` function. Suppose you've defined a variable `a`, but you forgot the type of this variable. To determine the type of a, simply execute:\n",
        "\n",
        "```python\n",
        "type(a)\n",
        "```"
      ]
    },
    {
      "cell_type": "markdown",
      "metadata": {
        "id": "zx5FCok-QE1D",
        "colab_type": "text"
      },
      "source": [
        "### Operations with other types\n",
        "In Python, different functions behave differently on different data types. \n",
        "\n",
        "\n",
        "When you sum two strings, for example, you'll get different behavior than when you sum two integers or two booleans.\n"
      ]
    },
    {
      "cell_type": "markdown",
      "metadata": {
        "id": "pWyxnl7fQ0Os",
        "colab_type": "text"
      },
      "source": [
        "\n",
        "* Calculate the product of `savings` and `growth_multiplier`. Store the result in `year1`.\n",
        "* What do you think the resulting type will be? Find out by printing out the type of `year1`.\n",
        "* Calculate the sum of `desc` and `desc` and store the result in a new variable `doubledesc`.\n",
        "* Print out `doubledesc`"
      ]
    },
    {
      "cell_type": "code",
      "metadata": {
        "id": "GynRC4D5Q_fx",
        "colab_type": "code",
        "colab": {
          "base_uri": "https://localhost:8080/",
          "height": 85
        },
        "outputId": "9a619c63-e736-4986-cfdb-32d1a061b7d6"
      },
      "source": [
        "savings = 100\n",
        "growth_multiplier = 1.1\n",
        "desc = \"compound interest\"\n",
        "\n",
        "# Assign product of growth_multiplier and savings to year1\n",
        "year1 = savings * growth_multiplier\n",
        "\n",
        "# Print the type of year1\n",
        "print(type(year1))\n",
        "print(year1)\n",
        "\n",
        "# Assign sum of desc and desc to doubledesc\n",
        "doubledesc = desc + desc\n",
        "\n",
        "# Print out doubledesc\n",
        "print(type(doubledesc))\n",
        "print(doubledesc)"
      ],
      "execution_count": 4,
      "outputs": [
        {
          "output_type": "stream",
          "text": [
            "<class 'float'>\n",
            "110.00000000000001\n",
            "<class 'str'>\n",
            "compound interestcompound interest\n"
          ],
          "name": "stdout"
        }
      ]
    },
    {
      "cell_type": "markdown",
      "metadata": {
        "id": "tPBUbg0YRB7L",
        "colab_type": "text"
      },
      "source": [
        "### Type conversion\n",
        "\n",
        "Using the `+` operator to paste together two strings can be very useful in building custom messages.\n",
        "\n",
        "Suppose, for example, that you've calculated the return of your investment and want to summarize the results in a string. Assuming the floats `savings` and `result` are defined, you can try something like this:\n",
        "```\n",
        "print(\"I started with $\" + savings + \" and now have $\" + result + \". Awesome!\")\n",
        "```\n",
        "This will not work, though, as you cannot simply sum strings and floats.\n",
        "\n",
        "To fix the error, you'll need to explicitly convert the types of your variables. More specifically, you'll need `str()`, to convert a value into a string. `str(savings)``, for example, will convert the float `savings` to a string.\n",
        "\n",
        "Similar functions such as `int()`, `float()` and `bool()` will help you convert Python values into any type."
      ]
    },
    {
      "cell_type": "code",
      "metadata": {
        "id": "flJSL0e-YdFN",
        "colab_type": "code",
        "colab": {
          "base_uri": "https://localhost:8080/",
          "height": 34
        },
        "outputId": "d73c1403-dee8-4e1d-a1de-480ef43358af"
      },
      "source": [
        "# Definition of savings and result\n",
        "savings = 100\n",
        "result = 100 * 1.10 ** 7\n",
        "\n",
        "# Fix the printout\n",
        "print(\"I started with $\" + str(savings) + \" and now have $\" + str(result) + \". Awesome!\")\n",
        "\n",
        "# Definition of pi_string\n",
        "pi_string = \"3.1415926\"\n",
        "\n",
        "# Convert pi_string into float: pi_float\n",
        "pi_float = float(pi_string)\n"
      ],
      "execution_count": 7,
      "outputs": [
        {
          "output_type": "stream",
          "text": [
            "I started with $100 and now have $194.87171000000012. Awesome!\n"
          ],
          "name": "stdout"
        }
      ]
    },
    {
      "cell_type": "code",
      "metadata": {
        "id": "0vEEtPd8YhZm",
        "colab_type": "code",
        "colab": {}
      },
      "source": [
        ""
      ],
      "execution_count": 0,
      "outputs": []
    }
  ]
}